{
 "cells": [
  {
   "cell_type": "markdown",
   "id": "836f33cc-9884-4a45-ae10-dc2ba8320399",
   "metadata": {},
   "source": [
    "# First Assignment"
   ]
  },
  {
   "cell_type": "markdown",
   "id": "17cbe66a-47d7-4d4d-a139-50445195f344",
   "metadata": {},
   "source": [
    "This is my first asignment (peer reviewed). Hope it all goes well!"
   ]
  },
  {
   "cell_type": "markdown",
   "id": "2a7e57b9-424a-416f-b444-e559b70ade62",
   "metadata": {},
   "source": [
    "## Data Science Languages"
   ]
  },
  {
   "cell_type": "markdown",
   "id": "eabc7203-0f8d-44fa-af59-52ad363e5577",
   "metadata": {},
   "source": [
    "There are a few different languages that are useful in data science:\n",
    "\n",
    "- Python\n",
    "- R\n",
    "- SQL\n",
    "- Matlab\n",
    "\n",
    "... and __many__ more!"
   ]
  },
  {
   "cell_type": "markdown",
   "id": "690d94df-eb05-4a61-b86a-db17333ffb30",
   "metadata": {},
   "source": [
    "## Data Science Libraries"
   ]
  },
  {
   "cell_type": "markdown",
   "id": "5b6235df-ef28-4732-9190-bd9af66055d5",
   "metadata": {},
   "source": [
    "Each language has different libraries to choose from. Different libraries can help with different problems.\n",
    "\n",
    "### Python Libraries\n",
    "\n",
    "- Numpy\n",
    "- Pandas\n",
    "- Matplotlib\n",
    "- Seaborn\n",
    "- Scikit-learn\n",
    "\n",
    "### R Libraries\n",
    "\n",
    "- ggplot2\n",
    "- caret\n",
    "- plotly"
   ]
  },
  {
   "cell_type": "markdown",
   "id": "2b8bf7ad-03d6-48a6-ace3-18e95a4ad615",
   "metadata": {},
   "source": [
    "## Data Science Tools\n",
    "\n",
    "| Tool            | Purpose                                | Language   |\n",
    "|-----------------|----------------------------------------|------------|\n",
    "| **NumPy**       | Numerical computing, array operations  | Python     |\n",
    "| **Pandas**      | Data manipulation and analysis          | Python     |\n",
    "| **Matplotlib**  | Data visualization                      | Python     |\n",
    "| **Seaborn**     | Statistical data visualization          | Python     |\n",
    "| **Scikit-learn**| Machine learning                        | Python     |"
   ]
  },
  {
   "cell_type": "markdown",
   "id": "a859f66b-b65e-4818-8ef4-53aec555651c",
   "metadata": {},
   "source": [
    "# Arithmetic Expression Examples\n",
    "\n",
    "Arithmetic expressions are fundamental in programming and data analysis.\n",
    "\n",
    "### Basic Arithmetic Operations\n",
    "\n",
    "1. **Addition**\n",
    "   - Expression: `a + b`\n",
    "\n",
    "2. **Subtraction**\n",
    "   - Expression: `a - b`\n",
    "\n",
    "3. **Multiplication**\n",
    "   - Expression: `a * b`\n",
    "\n",
    "4. **Division**\n",
    "   - Expression: `a / b`"
   ]
  },
  {
   "cell_type": "code",
   "execution_count": 7,
   "id": "f91014c4-f5c0-4460-8934-a6ca83ef8217",
   "metadata": {},
   "outputs": [
    {
     "name": "stdout",
     "output_type": "stream",
     "text": [
      "9\n",
      "18\n"
     ]
    }
   ],
   "source": [
    "a = 3\n",
    "b = 6\n",
    "print(a + b)\n",
    "print(a * b)"
   ]
  },
  {
   "cell_type": "code",
   "execution_count": 11,
   "id": "6987591e-2e71-4ada-aa9e-f6ec74ffbc08",
   "metadata": {},
   "outputs": [
    {
     "name": "stdout",
     "output_type": "stream",
     "text": [
      "Hours: 0.5\n"
     ]
    }
   ],
   "source": [
    "number_of_minutes = 30\n",
    "def convert_minutes_to_hours(minutes):\n",
    "    return minutes / 60\n",
    "\n",
    "print(f\"Hours: {convert_minutes_to_hours(number_of_minutes)}\")"
   ]
  },
  {
   "cell_type": "markdown",
   "id": "6cd1110d-d10a-404c-8f68-ca7b495dbeab",
   "metadata": {},
   "source": [
    "## Objectives\n",
    "\n",
    "These were the course objectives:\n",
    "\n",
    "- Create a Jupyter Notebook with markdown and code cells.\n",
    "- List examples of languages, libraries and tools used in Data Science.\n",
    "- Share your Jupyter Notebook publicly on GitHub.\n",
    "- Evaluate notebooks submitted by your peers using the provided rubric.\n",
    "- Demonstrate proficiency in Data Science toolkit knowledge.\n",
    "edge"
   ]
  },
  {
   "cell_type": "markdown",
   "id": "30be1354-6876-45db-b586-346f416cab63",
   "metadata": {},
   "source": [
    "## Author Name: \n",
    "\n",
    "_Thomas Fahey_"
   ]
  }
 ],
 "metadata": {
  "kernelspec": {
   "display_name": "Python 3 (ipykernel)",
   "language": "python",
   "name": "python3"
  },
  "language_info": {
   "codemirror_mode": {
    "name": "ipython",
    "version": 3
   },
   "file_extension": ".py",
   "mimetype": "text/x-python",
   "name": "python",
   "nbconvert_exporter": "python",
   "pygments_lexer": "ipython3",
   "version": "3.12.4"
  }
 },
 "nbformat": 4,
 "nbformat_minor": 5
}
